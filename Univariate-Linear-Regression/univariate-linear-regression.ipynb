{
 "cells": [
  {
   "cell_type": "markdown",
   "id": "e64cfaea-bbc0-4c6a-aeba-7b84f6410366",
   "metadata": {},
   "source": [
    "# Univariate Linear Regression Experiment"
   ]
  },
  {
   "cell_type": "code",
   "execution_count": 4,
   "id": "e0f94f20-f399-418f-93a2-ee4d3f5a25f4",
   "metadata": {
    "scrolled": true
   },
   "outputs": [
    {
     "name": "stdout",
     "output_type": "stream",
     "text": [
      "python is /Users/waqqassheikh/Developer/Machine-Learning-Experiments/.venv/bin/python\n"
     ]
    }
   ],
   "source": [
    "!type python"
   ]
  },
  {
   "cell_type": "code",
   "execution_count": null,
   "id": "6f730649-4812-4aeb-8956-7bed5c267810",
   "metadata": {},
   "outputs": [],
   "source": [
    "!../.venv/bin/python -m pip install numpy"
   ]
  },
  {
   "cell_type": "markdown",
   "id": "ef579ea3-a90e-4d48-8ccd-220f3e5a7997",
   "metadata": {},
   "source": [
    "## Introduction\n",
    "\n",
    "Use Univariate linear regression to determine how long it will take me to finish a book given a training set consisting of the number of pages, and the days taken to finsih the book."
   ]
  },
  {
   "cell_type": "markdown",
   "id": "b80dcc72-3eed-489c-9bcb-de9a8ff7a221",
   "metadata": {},
   "source": [
    "## Training Data\n",
    "\n",
    "| Title                                | Pages | Days to finish |\n",
    "|--------------------------------------|-------|----------------|\n",
    "| One Second Later                     | 352   | 5              |\n",
    "| Harry Potter and Philosopher's Stone | 215   | 2              |\n",
    "| Disrupted                            | 258   | 4              |"
   ]
  },
  {
   "cell_type": "code",
   "execution_count": 3,
   "id": "4d0f9539-7243-4a2c-9e04-52a96bae12a1",
   "metadata": {},
   "outputs": [
    {
     "name": "stdout",
     "output_type": "stream",
     "text": [
      "Requirement already satisfied: numpy in /opt/homebrew/Cellar/jupyterlab/4.2.1/libexec/lib/python3.12/site-packages (1.26.4)\n",
      "Note: you may need to restart the kernel to use updated packages.\n"
     ]
    }
   ],
   "source": [
    "pip install numpy"
   ]
  },
  {
   "cell_type": "code",
   "execution_count": 50,
   "id": "f8188526-7e19-4455-bfd5-fff244eabe7d",
   "metadata": {},
   "outputs": [],
   "source": [
    "import numpy as np\n",
    "x_train = np.array([215, 258,352])   #features\n",
    "y_train = np.array([2, 4,5])   #target value"
   ]
  },
  {
   "cell_type": "markdown",
   "id": "e0150f6a-6564-49ce-bbff-407e7472c51f",
   "metadata": {},
   "source": [
    "## Gradient Descent"
   ]
  },
  {
   "cell_type": "code",
   "execution_count": 51,
   "id": "eb14441b-2343-42a3-afc2-bef69d8e4bf3",
   "metadata": {},
   "outputs": [],
   "source": [
    "import math\n",
    "#Function to calculate the cost\n",
    "def compute_cost(x, y, w, b):\n",
    "   \n",
    "    m = x.shape[0] \n",
    "    cost = 0\n",
    "    \n",
    "    for i in range(m):\n",
    "        f_wb = w * x[i] + b\n",
    "        cost = cost + (f_wb - y[i])**2\n",
    "    total_cost = 1 / (2 * m) * cost\n",
    "\n",
    "    return total_cost\n",
    "\n",
    "def compute_gradient(x, y, w, b): \n",
    "    \"\"\"\n",
    "    Computes the gradient for linear regression \n",
    "    Args:\n",
    "      x (ndarray (m,)): Data, m examples \n",
    "      y (ndarray (m,)): target values\n",
    "      w,b (scalar)    : model parameters  \n",
    "    Returns\n",
    "      dj_dw (scalar): The gradient of the cost w.r.t. the parameters w\n",
    "      dj_db (scalar): The gradient of the cost w.r.t. the parameter b     \n",
    "     \"\"\"\n",
    "    \n",
    "    # Number of training examples\n",
    "    m = x.shape[0]    \n",
    "    dj_dw = 0\n",
    "    dj_db = 0\n",
    "    \n",
    "    for i in range(m):  \n",
    "        f_wb = w * x[i] + b \n",
    "        dj_dw_i = (f_wb - y[i]) * x[i] \n",
    "        dj_db_i = f_wb - y[i] \n",
    "        dj_db += dj_db_i\n",
    "        dj_dw += dj_dw_i \n",
    "    dj_dw = dj_dw / m \n",
    "    dj_db = dj_db / m \n",
    "        \n",
    "    return dj_dw, dj_db\n",
    "    \n",
    "def gradient_descent(x, y, w_in, b_in, alpha, num_iters, cost_function, gradient_function): \n",
    "    \"\"\"\n",
    "    Performs gradient descent to fit w,b. Updates w,b by taking \n",
    "    num_iters gradient steps with learning rate alpha\n",
    "    \n",
    "    Args:\n",
    "      x (ndarray (m,))  : Data, m examples \n",
    "      y (ndarray (m,))  : target values\n",
    "      w_in,b_in (scalar): initial values of model parameters  \n",
    "      alpha (float):     Learning rate\n",
    "      num_iters (int):   number of iterations to run gradient descent\n",
    "      cost_function:     function to call to produce cost\n",
    "      gradient_function: function to call to produce gradient\n",
    "      \n",
    "    Returns:\n",
    "      w (scalar): Updated value of parameter after running gradient descent\n",
    "      b (scalar): Updated value of parameter after running gradient descent\n",
    "      J_history (List): History of cost values\n",
    "      p_history (list): History of parameters [w,b] \n",
    "      \"\"\"\n",
    "    \n",
    "    # An array to store cost J and w's at each iteration primarily for graphing later\n",
    "    J_history = []\n",
    "    p_history = []\n",
    "    b = b_in\n",
    "    w = w_in\n",
    "    \n",
    "    for i in range(num_iters):\n",
    "        # Calculate the gradient and update the parameters using gradient_function\n",
    "        dj_dw, dj_db = gradient_function(x, y, w , b)     \n",
    "\n",
    "        # Update Parameters using equation (3) above\n",
    "        b = b - alpha * dj_db                            \n",
    "        w = w - alpha * dj_dw                            \n",
    "\n",
    "        # Save cost J at each iteration\n",
    "        if i<100000:      # prevent resource exhaustion \n",
    "            J_history.append( cost_function(x, y, w , b))\n",
    "            p_history.append([w,b])\n",
    "        # Print cost every at intervals 10 times or as many iterations if < 10\n",
    "        if i% math.ceil(num_iters/10) == 0:\n",
    "            print(f\"Iteration {i:4}: Cost {J_history[-1]:0.2e} \",\n",
    "                  f\"dj_dw: {dj_dw: 0.3e}, dj_db: {dj_db: 0.3e}  \",\n",
    "                  f\"w: {w: 0.3e}, b:{b: 0.5e}\")\n",
    " \n",
    "    return w, b, J_history, p_history #return w and J,w history for graphing"
   ]
  },
  {
   "cell_type": "markdown",
   "id": "48e5f497-67a6-43fb-9600-1c2201ae7b71",
   "metadata": {},
   "source": [
    "# Train"
   ]
  },
  {
   "cell_type": "code",
   "execution_count": 62,
   "id": "937f2eeb-4954-4f5b-a1dd-f94961b1835a",
   "metadata": {},
   "outputs": [
    {
     "name": "stdout",
     "output_type": "stream",
     "text": [
      "Iteration    0: Cost 5.16e-01  dj_dw: -1.074e+03, dj_db: -3.667e+00   w:  1.074e-02, b: 3.66667e-05\n",
      "Iteration 1000: Cost 1.90e-01  dj_dw: -2.675e-04, dj_db:  7.676e-02   w:  1.362e-02, b:-7.21073e-04\n",
      "Iteration 2000: Cost 1.90e-01  dj_dw: -2.674e-04, dj_db:  7.673e-02   w:  1.362e-02, b:-1.48851e-03\n",
      "Iteration 3000: Cost 1.90e-01  dj_dw: -2.673e-04, dj_db:  7.670e-02   w:  1.362e-02, b:-2.25562e-03\n",
      "Iteration 4000: Cost 1.90e-01  dj_dw: -2.672e-04, dj_db:  7.666e-02   w:  1.362e-02, b:-3.02242e-03\n",
      "Iteration 5000: Cost 1.90e-01  dj_dw: -2.671e-04, dj_db:  7.663e-02   w:  1.363e-02, b:-3.78890e-03\n",
      "Iteration 6000: Cost 1.90e-01  dj_dw: -2.670e-04, dj_db:  7.660e-02   w:  1.363e-02, b:-4.55506e-03\n",
      "Iteration 7000: Cost 1.90e-01  dj_dw: -2.669e-04, dj_db:  7.657e-02   w:  1.363e-02, b:-5.32090e-03\n",
      "Iteration 8000: Cost 1.90e-01  dj_dw: -2.668e-04, dj_db:  7.654e-02   w:  1.363e-02, b:-6.08643e-03\n",
      "Iteration 9000: Cost 1.90e-01  dj_dw: -2.667e-04, dj_db:  7.650e-02   w:  1.364e-02, b:-6.85163e-03\n",
      "(w,b) found by gradient descent: (  0.0136, -0.0076)\n"
     ]
    }
   ],
   "source": [
    "# initialize parameters\n",
    "w_init = 0\n",
    "b_init = 0\n",
    "# some gradient descent settings\n",
    "iterations = 10000\n",
    "tmp_alpha = 1.0e-5\n",
    "# run gradient descent\n",
    "w_final, b_final, J_hist, p_hist = gradient_descent(x_train ,y_train, w_init, b_init, tmp_alpha, \n",
    "                                                    iterations, compute_cost, compute_gradient)\n",
    "print(f\"(w,b) found by gradient descent: ({w_final:8.4f},{b_final:8.4f})\")"
   ]
  },
  {
   "cell_type": "markdown",
   "id": "d3e1193a-320f-4ef9-b27a-7259e0a2ffec",
   "metadata": {},
   "source": [
    "# Predictions"
   ]
  },
  {
   "cell_type": "code",
   "execution_count": 63,
   "id": "65e4031e-206d-456a-ae48-6c591a5b31c8",
   "metadata": {},
   "outputs": [
    {
     "name": "stdout",
     "output_type": "stream",
     "text": [
      "500 page book prediction 6.8 days\n"
     ]
    }
   ],
   "source": [
    "num_pages = 500\n",
    "print(f\"{num_pages} page book prediction {w_final*num_pages + b_final:0.1f} days\")"
   ]
  }
 ],
 "metadata": {
  "kernelspec": {
   "display_name": "Python 3 (ipykernel)",
   "language": "python",
   "name": "python3"
  },
  "language_info": {
   "codemirror_mode": {
    "name": "ipython",
    "version": 3
   },
   "file_extension": ".py",
   "mimetype": "text/x-python",
   "name": "python",
   "nbconvert_exporter": "python",
   "pygments_lexer": "ipython3",
   "version": "3.12.3"
  }
 },
 "nbformat": 4,
 "nbformat_minor": 5
}
